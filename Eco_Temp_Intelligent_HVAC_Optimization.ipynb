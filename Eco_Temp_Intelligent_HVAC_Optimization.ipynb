{
  "nbformat": 4,
  "nbformat_minor": 0,
  "metadata": {
    "colab": {
      "provenance": []
    },
    "kernelspec": {
      "name": "python3",
      "display_name": "Python 3"
    },
    "language_info": {
      "name": "python"
    }
  },
  "cells": [
    {
      "cell_type": "markdown",
      "source": [
        "Created the database of NTC sensor with the 4 features  [ \"timestamp\", \"ntc_indoor_temperature\", \"ntc_outdoor _temperature\", \"desired_temperature\" ] and the combination that is based on the indian temperature."
      ],
      "metadata": {
        "id": "05u0UokAt1Ws"
      }
    },
    {
      "cell_type": "code",
      "source": [
        "import numpy as np\n",
        "import pandas as pd\n",
        "from datetime import datetime, timedelta\n",
        "\n",
        "# Parameters for simulation\n",
        "num_samples = 25000\n",
        "start_time = datetime(2024, 7, 23, 6, 0, 0)\n",
        "time_interval = timedelta(minutes=10)\n",
        "\n",
        "# Simulate timestamps\n",
        "timestamps = [start_time + i * time_interval for i in range(num_samples)]\n",
        "\n",
        "# Simulate NTC indoor and outdoor temperatures (in Celsius)\n",
        "np.random.seed(42)\n",
        "ntc_indoor_temp = np.random.normal(loc=27, scale=5, size=num_samples)  # Mean 27°C, Std Dev 5°C\n",
        "ntc_outdoor_temp = np.random.normal(loc=35, scale=7, size=num_samples)  # Mean 35°C, Std Dev 7°C\n",
        "\n",
        "# Simulate desired AC temperatures based on indoor and outdoor temperatures\n",
        "def simulate_desired_temp(indoor, outdoor):\n",
        "    # Simple rule-based logic for desired temperature\n",
        "    if indoor > 30:\n",
        "        return np.random.uniform(16, 20)\n",
        "    elif 25 <= indoor <= 30:\n",
        "        return np.random.uniform(18, 22)\n",
        "    else:\n",
        "        return np.random.uniform(22, 24)\n",
        "\n",
        "desired_temp = [simulate_desired_temp(indoor, outdoor) for indoor, outdoor in zip(ntc_indoor_temp, ntc_outdoor_temp)]\n",
        "\n",
        "# Create a DataFrame\n",
        "data = pd.DataFrame({\n",
        "    'timestamp': timestamps,\n",
        "    'ntc_indoor_temperature': ntc_indoor_temp,\n",
        "    'ntc_outdoor_temperature': ntc_outdoor_temp,\n",
        "    'desired_temperature': desired_temp\n",
        "})\n",
        "\n",
        "# Save to CSV\n",
        "data.to_csv('ntc_sensor_dataset.csv', index=False)\n",
        "\n",
        "# Print first few rows of the generated data\n",
        "print(data.head())\n"
      ],
      "metadata": {
        "colab": {
          "base_uri": "https://localhost:8080/"
        },
        "id": "d-EJdhB3iRFN",
        "outputId": "d80fb2e1-f7a7-487b-8927-50dda227f360"
      },
      "execution_count": null,
      "outputs": [
        {
          "output_type": "stream",
          "name": "stdout",
          "text": [
            "            timestamp  ntc_indoor_temperature  ntc_outdoor_temperature  \\\n",
            "0 2024-07-23 06:00:00               29.483571                36.196115   \n",
            "1 2024-07-23 06:10:00               26.308678                35.085788   \n",
            "2 2024-07-23 06:20:00               30.238443                31.981915   \n",
            "3 2024-07-23 06:30:00               34.615149                34.982313   \n",
            "4 2024-07-23 06:40:00               25.829233                38.435891   \n",
            "\n",
            "   desired_temperature  \n",
            "0            18.011082  \n",
            "1            19.530091  \n",
            "2            19.656197  \n",
            "3            19.791020  \n",
            "4            18.214237  \n"
          ]
        }
      ]
    },
    {
      "cell_type": "code",
      "source": [
        "data = pd.read_csv(\"/content/ntc_sensor_dataset.csv\")"
      ],
      "metadata": {
        "id": "t3mOznGiOqhM"
      },
      "execution_count": null,
      "outputs": []
    },
    {
      "cell_type": "code",
      "source": [
        "data"
      ],
      "metadata": {
        "colab": {
          "base_uri": "https://localhost:8080/",
          "height": 423
        },
        "id": "CHJHMogPO2oi",
        "outputId": "4509ee51-f1ad-4476-b683-d5938ef55ad3"
      },
      "execution_count": null,
      "outputs": [
        {
          "output_type": "execute_result",
          "data": {
            "text/plain": [
              "                 timestamp  ntc_indoor_temperature  ntc_outdoor_temperature  \\\n",
              "0      2024-07-23 06:00:00               29.483571                36.196115   \n",
              "1      2024-07-23 06:10:00               26.308678                35.085788   \n",
              "2      2024-07-23 06:20:00               30.238443                31.981915   \n",
              "3      2024-07-23 06:30:00               34.615149                34.982313   \n",
              "4      2024-07-23 06:40:00               25.829233                38.435891   \n",
              "...                    ...                     ...                      ...   \n",
              "24995  2025-01-12 19:50:00               23.971658                35.397593   \n",
              "24996  2025-01-12 20:00:00               25.562579                34.825540   \n",
              "24997  2025-01-12 20:10:00               31.838894                38.500594   \n",
              "24998  2025-01-12 20:20:00               30.118466                36.856508   \n",
              "24999  2025-01-12 20:30:00               27.077923                45.610677   \n",
              "\n",
              "       desired_temperature  \n",
              "0                18.011082  \n",
              "1                19.530091  \n",
              "2                19.656197  \n",
              "3                19.791020  \n",
              "4                18.214237  \n",
              "...                    ...  \n",
              "24995            23.397537  \n",
              "24996            18.422777  \n",
              "24997            16.080516  \n",
              "24998            19.721957  \n",
              "24999            21.491038  \n",
              "\n",
              "[25000 rows x 4 columns]"
            ],
            "text/html": [
              "\n",
              "  <div id=\"df-1ea338cd-79f9-4b87-8536-7040a6d6790c\" class=\"colab-df-container\">\n",
              "    <div>\n",
              "<style scoped>\n",
              "    .dataframe tbody tr th:only-of-type {\n",
              "        vertical-align: middle;\n",
              "    }\n",
              "\n",
              "    .dataframe tbody tr th {\n",
              "        vertical-align: top;\n",
              "    }\n",
              "\n",
              "    .dataframe thead th {\n",
              "        text-align: right;\n",
              "    }\n",
              "</style>\n",
              "<table border=\"1\" class=\"dataframe\">\n",
              "  <thead>\n",
              "    <tr style=\"text-align: right;\">\n",
              "      <th></th>\n",
              "      <th>timestamp</th>\n",
              "      <th>ntc_indoor_temperature</th>\n",
              "      <th>ntc_outdoor_temperature</th>\n",
              "      <th>desired_temperature</th>\n",
              "    </tr>\n",
              "  </thead>\n",
              "  <tbody>\n",
              "    <tr>\n",
              "      <th>0</th>\n",
              "      <td>2024-07-23 06:00:00</td>\n",
              "      <td>29.483571</td>\n",
              "      <td>36.196115</td>\n",
              "      <td>18.011082</td>\n",
              "    </tr>\n",
              "    <tr>\n",
              "      <th>1</th>\n",
              "      <td>2024-07-23 06:10:00</td>\n",
              "      <td>26.308678</td>\n",
              "      <td>35.085788</td>\n",
              "      <td>19.530091</td>\n",
              "    </tr>\n",
              "    <tr>\n",
              "      <th>2</th>\n",
              "      <td>2024-07-23 06:20:00</td>\n",
              "      <td>30.238443</td>\n",
              "      <td>31.981915</td>\n",
              "      <td>19.656197</td>\n",
              "    </tr>\n",
              "    <tr>\n",
              "      <th>3</th>\n",
              "      <td>2024-07-23 06:30:00</td>\n",
              "      <td>34.615149</td>\n",
              "      <td>34.982313</td>\n",
              "      <td>19.791020</td>\n",
              "    </tr>\n",
              "    <tr>\n",
              "      <th>4</th>\n",
              "      <td>2024-07-23 06:40:00</td>\n",
              "      <td>25.829233</td>\n",
              "      <td>38.435891</td>\n",
              "      <td>18.214237</td>\n",
              "    </tr>\n",
              "    <tr>\n",
              "      <th>...</th>\n",
              "      <td>...</td>\n",
              "      <td>...</td>\n",
              "      <td>...</td>\n",
              "      <td>...</td>\n",
              "    </tr>\n",
              "    <tr>\n",
              "      <th>24995</th>\n",
              "      <td>2025-01-12 19:50:00</td>\n",
              "      <td>23.971658</td>\n",
              "      <td>35.397593</td>\n",
              "      <td>23.397537</td>\n",
              "    </tr>\n",
              "    <tr>\n",
              "      <th>24996</th>\n",
              "      <td>2025-01-12 20:00:00</td>\n",
              "      <td>25.562579</td>\n",
              "      <td>34.825540</td>\n",
              "      <td>18.422777</td>\n",
              "    </tr>\n",
              "    <tr>\n",
              "      <th>24997</th>\n",
              "      <td>2025-01-12 20:10:00</td>\n",
              "      <td>31.838894</td>\n",
              "      <td>38.500594</td>\n",
              "      <td>16.080516</td>\n",
              "    </tr>\n",
              "    <tr>\n",
              "      <th>24998</th>\n",
              "      <td>2025-01-12 20:20:00</td>\n",
              "      <td>30.118466</td>\n",
              "      <td>36.856508</td>\n",
              "      <td>19.721957</td>\n",
              "    </tr>\n",
              "    <tr>\n",
              "      <th>24999</th>\n",
              "      <td>2025-01-12 20:30:00</td>\n",
              "      <td>27.077923</td>\n",
              "      <td>45.610677</td>\n",
              "      <td>21.491038</td>\n",
              "    </tr>\n",
              "  </tbody>\n",
              "</table>\n",
              "<p>25000 rows × 4 columns</p>\n",
              "</div>\n",
              "    <div class=\"colab-df-buttons\">\n",
              "\n",
              "  <div class=\"colab-df-container\">\n",
              "    <button class=\"colab-df-convert\" onclick=\"convertToInteractive('df-1ea338cd-79f9-4b87-8536-7040a6d6790c')\"\n",
              "            title=\"Convert this dataframe to an interactive table.\"\n",
              "            style=\"display:none;\">\n",
              "\n",
              "  <svg xmlns=\"http://www.w3.org/2000/svg\" height=\"24px\" viewBox=\"0 -960 960 960\">\n",
              "    <path d=\"M120-120v-720h720v720H120Zm60-500h600v-160H180v160Zm220 220h160v-160H400v160Zm0 220h160v-160H400v160ZM180-400h160v-160H180v160Zm440 0h160v-160H620v160ZM180-180h160v-160H180v160Zm440 0h160v-160H620v160Z\"/>\n",
              "  </svg>\n",
              "    </button>\n",
              "\n",
              "  <style>\n",
              "    .colab-df-container {\n",
              "      display:flex;\n",
              "      gap: 12px;\n",
              "    }\n",
              "\n",
              "    .colab-df-convert {\n",
              "      background-color: #E8F0FE;\n",
              "      border: none;\n",
              "      border-radius: 50%;\n",
              "      cursor: pointer;\n",
              "      display: none;\n",
              "      fill: #1967D2;\n",
              "      height: 32px;\n",
              "      padding: 0 0 0 0;\n",
              "      width: 32px;\n",
              "    }\n",
              "\n",
              "    .colab-df-convert:hover {\n",
              "      background-color: #E2EBFA;\n",
              "      box-shadow: 0px 1px 2px rgba(60, 64, 67, 0.3), 0px 1px 3px 1px rgba(60, 64, 67, 0.15);\n",
              "      fill: #174EA6;\n",
              "    }\n",
              "\n",
              "    .colab-df-buttons div {\n",
              "      margin-bottom: 4px;\n",
              "    }\n",
              "\n",
              "    [theme=dark] .colab-df-convert {\n",
              "      background-color: #3B4455;\n",
              "      fill: #D2E3FC;\n",
              "    }\n",
              "\n",
              "    [theme=dark] .colab-df-convert:hover {\n",
              "      background-color: #434B5C;\n",
              "      box-shadow: 0px 1px 3px 1px rgba(0, 0, 0, 0.15);\n",
              "      filter: drop-shadow(0px 1px 2px rgba(0, 0, 0, 0.3));\n",
              "      fill: #FFFFFF;\n",
              "    }\n",
              "  </style>\n",
              "\n",
              "    <script>\n",
              "      const buttonEl =\n",
              "        document.querySelector('#df-1ea338cd-79f9-4b87-8536-7040a6d6790c button.colab-df-convert');\n",
              "      buttonEl.style.display =\n",
              "        google.colab.kernel.accessAllowed ? 'block' : 'none';\n",
              "\n",
              "      async function convertToInteractive(key) {\n",
              "        const element = document.querySelector('#df-1ea338cd-79f9-4b87-8536-7040a6d6790c');\n",
              "        const dataTable =\n",
              "          await google.colab.kernel.invokeFunction('convertToInteractive',\n",
              "                                                    [key], {});\n",
              "        if (!dataTable) return;\n",
              "\n",
              "        const docLinkHtml = 'Like what you see? Visit the ' +\n",
              "          '<a target=\"_blank\" href=https://colab.research.google.com/notebooks/data_table.ipynb>data table notebook</a>'\n",
              "          + ' to learn more about interactive tables.';\n",
              "        element.innerHTML = '';\n",
              "        dataTable['output_type'] = 'display_data';\n",
              "        await google.colab.output.renderOutput(dataTable, element);\n",
              "        const docLink = document.createElement('div');\n",
              "        docLink.innerHTML = docLinkHtml;\n",
              "        element.appendChild(docLink);\n",
              "      }\n",
              "    </script>\n",
              "  </div>\n",
              "\n",
              "\n",
              "<div id=\"df-9c932018-d6ec-411f-ab79-288fb0d3742d\">\n",
              "  <button class=\"colab-df-quickchart\" onclick=\"quickchart('df-9c932018-d6ec-411f-ab79-288fb0d3742d')\"\n",
              "            title=\"Suggest charts\"\n",
              "            style=\"display:none;\">\n",
              "\n",
              "<svg xmlns=\"http://www.w3.org/2000/svg\" height=\"24px\"viewBox=\"0 0 24 24\"\n",
              "     width=\"24px\">\n",
              "    <g>\n",
              "        <path d=\"M19 3H5c-1.1 0-2 .9-2 2v14c0 1.1.9 2 2 2h14c1.1 0 2-.9 2-2V5c0-1.1-.9-2-2-2zM9 17H7v-7h2v7zm4 0h-2V7h2v10zm4 0h-2v-4h2v4z\"/>\n",
              "    </g>\n",
              "</svg>\n",
              "  </button>\n",
              "\n",
              "<style>\n",
              "  .colab-df-quickchart {\n",
              "      --bg-color: #E8F0FE;\n",
              "      --fill-color: #1967D2;\n",
              "      --hover-bg-color: #E2EBFA;\n",
              "      --hover-fill-color: #174EA6;\n",
              "      --disabled-fill-color: #AAA;\n",
              "      --disabled-bg-color: #DDD;\n",
              "  }\n",
              "\n",
              "  [theme=dark] .colab-df-quickchart {\n",
              "      --bg-color: #3B4455;\n",
              "      --fill-color: #D2E3FC;\n",
              "      --hover-bg-color: #434B5C;\n",
              "      --hover-fill-color: #FFFFFF;\n",
              "      --disabled-bg-color: #3B4455;\n",
              "      --disabled-fill-color: #666;\n",
              "  }\n",
              "\n",
              "  .colab-df-quickchart {\n",
              "    background-color: var(--bg-color);\n",
              "    border: none;\n",
              "    border-radius: 50%;\n",
              "    cursor: pointer;\n",
              "    display: none;\n",
              "    fill: var(--fill-color);\n",
              "    height: 32px;\n",
              "    padding: 0;\n",
              "    width: 32px;\n",
              "  }\n",
              "\n",
              "  .colab-df-quickchart:hover {\n",
              "    background-color: var(--hover-bg-color);\n",
              "    box-shadow: 0 1px 2px rgba(60, 64, 67, 0.3), 0 1px 3px 1px rgba(60, 64, 67, 0.15);\n",
              "    fill: var(--button-hover-fill-color);\n",
              "  }\n",
              "\n",
              "  .colab-df-quickchart-complete:disabled,\n",
              "  .colab-df-quickchart-complete:disabled:hover {\n",
              "    background-color: var(--disabled-bg-color);\n",
              "    fill: var(--disabled-fill-color);\n",
              "    box-shadow: none;\n",
              "  }\n",
              "\n",
              "  .colab-df-spinner {\n",
              "    border: 2px solid var(--fill-color);\n",
              "    border-color: transparent;\n",
              "    border-bottom-color: var(--fill-color);\n",
              "    animation:\n",
              "      spin 1s steps(1) infinite;\n",
              "  }\n",
              "\n",
              "  @keyframes spin {\n",
              "    0% {\n",
              "      border-color: transparent;\n",
              "      border-bottom-color: var(--fill-color);\n",
              "      border-left-color: var(--fill-color);\n",
              "    }\n",
              "    20% {\n",
              "      border-color: transparent;\n",
              "      border-left-color: var(--fill-color);\n",
              "      border-top-color: var(--fill-color);\n",
              "    }\n",
              "    30% {\n",
              "      border-color: transparent;\n",
              "      border-left-color: var(--fill-color);\n",
              "      border-top-color: var(--fill-color);\n",
              "      border-right-color: var(--fill-color);\n",
              "    }\n",
              "    40% {\n",
              "      border-color: transparent;\n",
              "      border-right-color: var(--fill-color);\n",
              "      border-top-color: var(--fill-color);\n",
              "    }\n",
              "    60% {\n",
              "      border-color: transparent;\n",
              "      border-right-color: var(--fill-color);\n",
              "    }\n",
              "    80% {\n",
              "      border-color: transparent;\n",
              "      border-right-color: var(--fill-color);\n",
              "      border-bottom-color: var(--fill-color);\n",
              "    }\n",
              "    90% {\n",
              "      border-color: transparent;\n",
              "      border-bottom-color: var(--fill-color);\n",
              "    }\n",
              "  }\n",
              "</style>\n",
              "\n",
              "  <script>\n",
              "    async function quickchart(key) {\n",
              "      const quickchartButtonEl =\n",
              "        document.querySelector('#' + key + ' button');\n",
              "      quickchartButtonEl.disabled = true;  // To prevent multiple clicks.\n",
              "      quickchartButtonEl.classList.add('colab-df-spinner');\n",
              "      try {\n",
              "        const charts = await google.colab.kernel.invokeFunction(\n",
              "            'suggestCharts', [key], {});\n",
              "      } catch (error) {\n",
              "        console.error('Error during call to suggestCharts:', error);\n",
              "      }\n",
              "      quickchartButtonEl.classList.remove('colab-df-spinner');\n",
              "      quickchartButtonEl.classList.add('colab-df-quickchart-complete');\n",
              "    }\n",
              "    (() => {\n",
              "      let quickchartButtonEl =\n",
              "        document.querySelector('#df-9c932018-d6ec-411f-ab79-288fb0d3742d button');\n",
              "      quickchartButtonEl.style.display =\n",
              "        google.colab.kernel.accessAllowed ? 'block' : 'none';\n",
              "    })();\n",
              "  </script>\n",
              "</div>\n",
              "\n",
              "  <div id=\"id_30ca9782-9231-4999-b6db-a69c6d8fe68c\">\n",
              "    <style>\n",
              "      .colab-df-generate {\n",
              "        background-color: #E8F0FE;\n",
              "        border: none;\n",
              "        border-radius: 50%;\n",
              "        cursor: pointer;\n",
              "        display: none;\n",
              "        fill: #1967D2;\n",
              "        height: 32px;\n",
              "        padding: 0 0 0 0;\n",
              "        width: 32px;\n",
              "      }\n",
              "\n",
              "      .colab-df-generate:hover {\n",
              "        background-color: #E2EBFA;\n",
              "        box-shadow: 0px 1px 2px rgba(60, 64, 67, 0.3), 0px 1px 3px 1px rgba(60, 64, 67, 0.15);\n",
              "        fill: #174EA6;\n",
              "      }\n",
              "\n",
              "      [theme=dark] .colab-df-generate {\n",
              "        background-color: #3B4455;\n",
              "        fill: #D2E3FC;\n",
              "      }\n",
              "\n",
              "      [theme=dark] .colab-df-generate:hover {\n",
              "        background-color: #434B5C;\n",
              "        box-shadow: 0px 1px 3px 1px rgba(0, 0, 0, 0.15);\n",
              "        filter: drop-shadow(0px 1px 2px rgba(0, 0, 0, 0.3));\n",
              "        fill: #FFFFFF;\n",
              "      }\n",
              "    </style>\n",
              "    <button class=\"colab-df-generate\" onclick=\"generateWithVariable('data')\"\n",
              "            title=\"Generate code using this dataframe.\"\n",
              "            style=\"display:none;\">\n",
              "\n",
              "  <svg xmlns=\"http://www.w3.org/2000/svg\" height=\"24px\"viewBox=\"0 0 24 24\"\n",
              "       width=\"24px\">\n",
              "    <path d=\"M7,19H8.4L18.45,9,17,7.55,7,17.6ZM5,21V16.75L18.45,3.32a2,2,0,0,1,2.83,0l1.4,1.43a1.91,1.91,0,0,1,.58,1.4,1.91,1.91,0,0,1-.58,1.4L9.25,21ZM18.45,9,17,7.55Zm-12,3A5.31,5.31,0,0,0,4.9,8.1,5.31,5.31,0,0,0,1,6.5,5.31,5.31,0,0,0,4.9,4.9,5.31,5.31,0,0,0,6.5,1,5.31,5.31,0,0,0,8.1,4.9,5.31,5.31,0,0,0,12,6.5,5.46,5.46,0,0,0,6.5,12Z\"/>\n",
              "  </svg>\n",
              "    </button>\n",
              "    <script>\n",
              "      (() => {\n",
              "      const buttonEl =\n",
              "        document.querySelector('#id_30ca9782-9231-4999-b6db-a69c6d8fe68c button.colab-df-generate');\n",
              "      buttonEl.style.display =\n",
              "        google.colab.kernel.accessAllowed ? 'block' : 'none';\n",
              "\n",
              "      buttonEl.onclick = () => {\n",
              "        google.colab.notebook.generateWithVariable('data');\n",
              "      }\n",
              "      })();\n",
              "    </script>\n",
              "  </div>\n",
              "\n",
              "    </div>\n",
              "  </div>\n"
            ],
            "application/vnd.google.colaboratory.intrinsic+json": {
              "type": "dataframe",
              "variable_name": "data",
              "summary": "{\n  \"name\": \"data\",\n  \"rows\": 25000,\n  \"fields\": [\n    {\n      \"column\": \"timestamp\",\n      \"properties\": {\n        \"dtype\": \"object\",\n        \"num_unique_values\": 25000,\n        \"samples\": [\n          \"2024-09-08 22:40:00\",\n          \"2025-01-06 00:40:00\",\n          \"2024-09-28 09:20:00\"\n        ],\n        \"semantic_type\": \"\",\n        \"description\": \"\"\n      }\n    },\n    {\n      \"column\": \"ntc_indoor_temperature\",\n      \"properties\": {\n        \"dtype\": \"number\",\n        \"std\": 4.992621940911846,\n        \"min\": 7.387998741908287,\n        \"max\": 49.39542125512878,\n        \"num_unique_values\": 25000,\n        \"samples\": [\n          24.36722433431649,\n          25.329333805783197,\n          22.37537092140363\n        ],\n        \"semantic_type\": \"\",\n        \"description\": \"\"\n      }\n    },\n    {\n      \"column\": \"ntc_outdoor_temperature\",\n      \"properties\": {\n        \"dtype\": \"number\",\n        \"std\": 7.012816331141711,\n        \"min\": 3.7407729552978566,\n        \"max\": 61.09483341334232,\n        \"num_unique_values\": 25000,\n        \"samples\": [\n          45.069193667138485,\n          37.50215892733876,\n          25.121209947115407\n        ],\n        \"semantic_type\": \"\",\n        \"description\": \"\"\n      }\n    },\n    {\n      \"column\": \"desired_temperature\",\n      \"properties\": {\n        \"dtype\": \"number\",\n        \"std\": 2.222425950553665,\n        \"min\": 16.000685021471902,\n        \"max\": 23.999685306638053,\n        \"num_unique_values\": 25000,\n        \"samples\": [\n          22.189277897483983,\n          18.58532356218694,\n          22.11175489449193\n        ],\n        \"semantic_type\": \"\",\n        \"description\": \"\"\n      }\n    }\n  ]\n}"
            }
          },
          "metadata": {},
          "execution_count": 20
        }
      ]
    },
    {
      "cell_type": "code",
      "source": [
        "data.info()"
      ],
      "metadata": {
        "colab": {
          "base_uri": "https://localhost:8080/"
        },
        "id": "f4cMaSLLO3dz",
        "outputId": "c95cabb1-04ef-416d-826c-64cc10d688e2"
      },
      "execution_count": null,
      "outputs": [
        {
          "output_type": "stream",
          "name": "stdout",
          "text": [
            "<class 'pandas.core.frame.DataFrame'>\n",
            "RangeIndex: 25000 entries, 0 to 24999\n",
            "Data columns (total 4 columns):\n",
            " #   Column                   Non-Null Count  Dtype  \n",
            "---  ------                   --------------  -----  \n",
            " 0   timestamp                25000 non-null  object \n",
            " 1   ntc_indoor_temperature   25000 non-null  float64\n",
            " 2   ntc_outdoor_temperature  25000 non-null  float64\n",
            " 3   desired_temperature      25000 non-null  float64\n",
            "dtypes: float64(3), object(1)\n",
            "memory usage: 781.4+ KB\n"
          ]
        }
      ]
    },
    {
      "cell_type": "markdown",
      "source": [
        "converting the features into round off"
      ],
      "metadata": {
        "id": "LOA8CgAxvAZH"
      }
    },
    {
      "cell_type": "code",
      "source": [
        "data['ntc_indoor_temperature'] = data['ntc_indoor_temperature'].round().astype(int)"
      ],
      "metadata": {
        "id": "VX-x4WJMO953"
      },
      "execution_count": null,
      "outputs": []
    },
    {
      "cell_type": "code",
      "source": [
        "data['ntc_outdoor_temperature'] = data['ntc_outdoor_temperature'].round().astype(int)"
      ],
      "metadata": {
        "id": "NSgZvL0EijuT"
      },
      "execution_count": null,
      "outputs": []
    },
    {
      "cell_type": "code",
      "source": [
        "data['desired_temperature'] = data['desired_temperature'].round().astype(int)\n",
        "print(data.head())"
      ],
      "metadata": {
        "colab": {
          "base_uri": "https://localhost:8080/"
        },
        "id": "6F7Hid2uPaA4",
        "outputId": "616d9385-e29c-46e8-994c-c5a65bc2aded"
      },
      "execution_count": null,
      "outputs": [
        {
          "output_type": "stream",
          "name": "stdout",
          "text": [
            "             timestamp  ntc_indoor_temperature  ntc_outdoor_temperature  \\\n",
            "0  2024-07-23 06:00:00                      29                       36   \n",
            "1  2024-07-23 06:10:00                      26                       35   \n",
            "2  2024-07-23 06:20:00                      30                       32   \n",
            "3  2024-07-23 06:30:00                      35                       35   \n",
            "4  2024-07-23 06:40:00                      26                       38   \n",
            "\n",
            "   desired_temperature  \n",
            "0                   18  \n",
            "1                   20  \n",
            "2                   20  \n",
            "3                   20  \n",
            "4                   18  \n"
          ]
        }
      ]
    },
    {
      "cell_type": "code",
      "source": [
        "data.info()"
      ],
      "metadata": {
        "colab": {
          "base_uri": "https://localhost:8080/"
        },
        "id": "HyEER08OjJl3",
        "outputId": "9a0798d9-a77e-4c4c-aa07-45f02485e3cf"
      },
      "execution_count": null,
      "outputs": [
        {
          "output_type": "stream",
          "name": "stdout",
          "text": [
            "<class 'pandas.core.frame.DataFrame'>\n",
            "RangeIndex: 25000 entries, 0 to 24999\n",
            "Data columns (total 4 columns):\n",
            " #   Column                   Non-Null Count  Dtype \n",
            "---  ------                   --------------  ----- \n",
            " 0   timestamp                25000 non-null  object\n",
            " 1   ntc_indoor_temperature   25000 non-null  int64 \n",
            " 2   ntc_outdoor_temperature  25000 non-null  int64 \n",
            " 3   desired_temperature      25000 non-null  int64 \n",
            "dtypes: int64(3), object(1)\n",
            "memory usage: 781.4+ KB\n"
          ]
        }
      ]
    },
    {
      "cell_type": "markdown",
      "source": [
        "firstly i train the model with linear regression"
      ],
      "metadata": {
        "id": "9l41E2_Rvcb1"
      }
    },
    {
      "cell_type": "code",
      "source": [
        "from sklearn.model_selection import train_test_split\n",
        "from sklearn.preprocessing import StandardScaler\n",
        "from sklearn.linear_model import LinearRegression\n",
        "from sklearn.metrics import mean_squared_error, r2_score\n",
        "import matplotlib.pyplot as plt\n",
        "\n",
        "X = data[['ntc_indoor_temperature','ntc_outdoor_temperature']].values\n",
        "y = data['desired_temperature'].values\n",
        "\n",
        "# Split the data into training and testing sets\n",
        "X_train, X_test, y_train, y_test = train_test_split(X, y, test_size=0.2, random_state=42)\n",
        "\n",
        "# Feature Scaling\n",
        "scaler = StandardScaler()\n",
        "X_train = scaler.fit_transform(X_train)\n",
        "X_test = scaler.transform(X_test)\n",
        "\n",
        "# Train a Linear Regression model\n",
        "linear_model = LinearRegression()\n",
        "linear_model.fit(X_train, y_train)\n",
        "\n",
        "# Evaluate the model\n",
        "y_pred = linear_model.predict(X_test)\n",
        "mse = mean_squared_error(y_test, y_pred)\n",
        "r2 = r2_score(y_test, y_pred)\n",
        "\n",
        "print(f'Mean Squared Error: {mse}')\n",
        "print(f'R^2 Score: {r2}')\n",
        "\n",
        "# Visualize the results\n",
        "# Choose one feature for visualization, for example, indoor temperature:\n",
        "plt.scatter(X_test[:, 0], y_test, color='blue', label='Actual')\n",
        "plt.scatter(X_test[:, 0], y_pred, color='red', label='Predicted')\n",
        "plt.xlabel('NTC Indoor Temperature (Scaled)')  # Update the x-axis label\n",
        "plt.ylabel('Desired Temperature')\n",
        "plt.legend()\n",
        "plt.show()"
      ],
      "metadata": {
        "colab": {
          "base_uri": "https://localhost:8080/",
          "height": 484
        },
        "id": "jw1JlAg-jdVz",
        "outputId": "845cb8cd-556d-401d-da06-94fd2958feb2"
      },
      "execution_count": null,
      "outputs": [
        {
          "output_type": "stream",
          "name": "stdout",
          "text": [
            "Mean Squared Error: 1.9947039997047469\n",
            "R^2 Score: 0.6096994885594794\n"
          ]
        },
        {
          "output_type": "display_data",
          "data": {
            "text/plain": [
              "<Figure size 640x480 with 1 Axes>"
            ],
            "image/png": "[encoded data removed]"
          },
          "metadata": {}
        }
      ]
    },
    {
      "cell_type": "markdown",
      "source": [
        "Perform 5-fold cross-validation on the linear model"
      ],
      "metadata": {
        "id": "uZ-FG_tgwb_p"
      }
    },
    {
      "cell_type": "code",
      "source": [
        "from sklearn.model_selection import cross_val_score\n",
        "\n",
        "cv_scores = cross_val_score(linear_model, scaler.transform(X), y, cv=5, scoring='r2')\n",
        "\n",
        "print(f'Cross-Validation R^2 Scores: {cv_scores}')\n",
        "print(f'Mean Cross-Validation R^2 Score: {cv_scores.mean()}')\n",
        "print(f'Standard Deviation of Cross-Validation R^2 Scores: {cv_scores.std()}')\n"
      ],
      "metadata": {
        "colab": {
          "base_uri": "https://localhost:8080/"
        },
        "id": "ABE-9ovHQBDr",
        "outputId": "4217a7f2-558f-4f42-a2b6-06ad58c5f30c"
      },
      "execution_count": null,
      "outputs": [
        {
          "output_type": "stream",
          "name": "stdout",
          "text": [
            "Cross-Validation R^2 Scores: [0.61166051 0.61748792 0.60345281 0.61236597 0.61486243]\n",
            "Mean Cross-Validation R^2 Score: 0.6119659289835615\n",
            "Standard Deviation of Cross-Validation R^2 Scores: 0.0047245863312652325\n"
          ]
        }
      ]
    },
    {
      "cell_type": "code",
      "source": [
        "# Evaluate on training set\n",
        "y_train_pred = linear_model.predict(X_train)\n",
        "mse_train = mean_squared_error(y_train, y_train_pred)\n",
        "r2_train = r2_score(y_train, y_train_pred)\n",
        "\n",
        "print(f'Training MSE: {mse_train}')\n",
        "print(f'Training R^2 Score: {r2_train}')\n"
      ],
      "metadata": {
        "colab": {
          "base_uri": "https://localhost:8080/"
        },
        "id": "o7w-88dOQvBZ",
        "outputId": "8fb553e0-88df-43e8-d9a7-129b09892bef"
      },
      "execution_count": null,
      "outputs": [
        {
          "output_type": "stream",
          "name": "stdout",
          "text": [
            "Training MSE: 1.9856832689551414\n",
            "Training R^2 Score: 0.6126557903317911\n"
          ]
        }
      ]
    },
    {
      "cell_type": "markdown",
      "source": [
        "we can try **Regularization** Even though the model is performing well, applying regularization (like Ridge or Lasso regression) can sometimes further enhance the model by penalizing large coefficients, which can reduce the risk of overfitting."
      ],
      "metadata": {
        "id": "TvadG8rsSpgU"
      }
    },
    {
      "cell_type": "markdown",
      "source": [
        "# Checking the prediction by linear model"
      ],
      "metadata": {
        "id": "P79MF0QSxX3N"
      }
    },
    {
      "cell_type": "code",
      "source": [
        "import numpy as np\n",
        "def predict_desired_temp():\n",
        "  \"\"\"\n",
        "  Predicts the desired AC temperature based on user input for NTC temperature.\n",
        "  \"\"\"\n",
        "  ntc_indoor = int(input(\"Enter NTC indoor sensor temperature (in degrees Celsius): \"))\n",
        "  ntc_outdoor = int(input(\"Enter NTC outdoor sensor temperature (in degrees Celsius): \"))\n",
        "  # Reshape input to match model's expectation, providing both indoor and outdoor temps\n",
        "  ntc_temp_reshaped = np.array([ntc_indoor, ntc_outdoor]).reshape(1, -1)\n",
        "  # Scale the input using the same scaler used for training\n",
        "  ntc_temp_scaled = scaler.transform(ntc_temp_reshaped)\n",
        "  # Predict the desired temperature\n",
        "  predicted_desired_temp = linear_model.predict(ntc_temp_scaled)[0]\n",
        "  print(f\"Predicted desired AC temperature: {round(predicted_desired_temp)} degrees Celsius\")\n",
        "\n",
        "# Call the function to start prediction\n",
        "predict_desired_temp()"
      ],
      "metadata": {
        "colab": {
          "base_uri": "https://localhost:8080/"
        },
        "id": "NEv5UgiNkBme",
        "outputId": "ed176d1d-d20d-4b4a-8f24-dac1fb0ddb3e"
      },
      "execution_count": null,
      "outputs": [
        {
          "output_type": "stream",
          "name": "stdout",
          "text": [
            "Enter NTC indoor sensor temperature (in degrees Celsius): 29\n",
            "Enter NTC outdoor sensor temperature (in degrees Celsius): 36\n",
            "Predicted desired AC temperature: 20 degrees Celsius\n"
          ]
        }
      ]
    },
    {
      "cell_type": "markdown",
      "source": [
        "# lets try with the decion tree regressor for the better accuracy"
      ],
      "metadata": {
        "id": "zTmoO5C6xqiu"
      }
    },
    {
      "cell_type": "code",
      "source": [
        "import matplotlib.pyplot as plt\n",
        "from sklearn.tree import DecisionTreeRegressor\n",
        "\n",
        "# Initialize the Decision Tree Regressor\n",
        "tree_model = DecisionTreeRegressor(random_state=42)\n",
        "\n",
        "# Train the model\n",
        "tree_model.fit(X_train, y_train)\n",
        "\n",
        "# Make predictions on the test set\n",
        "y_pred_tree = tree_model.predict(X_test)\n",
        "\n",
        "# Evaluate the model\n",
        "mse_tree = mean_squared_error(y_test, y_pred_tree)\n",
        "r2_tree = r2_score(y_test, y_pred_tree)\n",
        "\n",
        "print(f'Decision Tree - Mean Squared Error: {mse_tree}')\n",
        "print(f'Decision Tree - R^2 Score: {r2_tree}')\n",
        "\n",
        "plt.scatter(X_test[:, 0], y_test, color='blue', label='Actual')\n",
        "plt.scatter(X_test[:, 0], y_pred_tree, color='green', label='Decision Tree Predicted')\n",
        "plt.xlabel('NTC Sensor Temperature (Scaled)')\n",
        "plt.ylabel('Desired Temperature')\n",
        "plt.legend()\n",
        "plt.show()"
      ],
      "metadata": {
        "id": "Os-zlUPvX2jm",
        "colab": {
          "base_uri": "https://localhost:8080/",
          "height": 484
        },
        "outputId": "5958b714-287e-4d80-ab4c-c893ecccc7f8"
      },
      "execution_count": null,
      "outputs": [
        {
          "output_type": "stream",
          "name": "stdout",
          "text": [
            "Decision Tree - Mean Squared Error: 1.5070546008845804\n",
            "Decision Tree - R^2 Score: 0.7051170591821612\n"
          ]
        },
        {
          "output_type": "display_data",
          "data": {
            "text/plain": [
              "<Figure size 640x480 with 1 Axes>"
            ],
            "image/png": "[encoded data removed]"
          },
          "metadata": {}
        }
      ]
    },
    {
      "cell_type": "markdown",
      "source": [
        "checking the prediction by decision tree regressor model"
      ],
      "metadata": {
        "id": "3wRT1Xq5x1LH"
      }
    },
    {
      "cell_type": "code",
      "source": [
        "import numpy as np\n",
        "def predict_desired_temp():\n",
        "  \"\"\"\n",
        "  Predicts the desired AC temperature based on user input for NTC temperature.\n",
        "  \"\"\"\n",
        "  ntc_indoor = int(input(\"Enter NTC indoor sensor temperature (in degrees Celsius): \"))\n",
        "  ntc_outdoor = int(input(\"Enter NTC outdoor sensor temperature (in degrees Celsius): \"))  # Ask for outdoor temperature\n",
        "  # Reshape input to match model's expectation, providing both indoor and outdoor temps\n",
        "  ntc_temp_reshaped = np.array([ntc_indoor, ntc_outdoor]).reshape(1, -1)\n",
        "  # Scale the input using the same scaler used for training\n",
        "  ntc_temp_scaled = scaler.transform(ntc_temp_reshaped)\n",
        "  # Predict the desired temperature\n",
        "  predicted_desired_temp = tree_model.predict(ntc_temp_scaled)[0]\n",
        "  print(f\"Predicted desired AC temperature: {round(predicted_desired_temp)} degrees Celsius\")\n",
        "\n",
        "# Call the function to start prediction\n",
        "predict_desired_temp()"
      ],
      "metadata": {
        "colab": {
          "base_uri": "https://localhost:8080/"
        },
        "id": "FQeIWzNW6NUh",
        "outputId": "611b88fa-2f7e-418d-aa7e-7b356720c239"
      },
      "execution_count": null,
      "outputs": [
        {
          "output_type": "stream",
          "name": "stdout",
          "text": [
            "Enter NTC indoor sensor temperature (in degrees Celsius): 29\n",
            "Enter NTC outdoor sensor temperature (in degrees Celsius): 36\n",
            "Predicted desired AC temperature: 20 degrees Celsius\n"
          ]
        }
      ]
    },
    {
      "cell_type": "code",
      "source": [
        "# prompt: i want to try this model on random forest\n",
        "\n",
        "import matplotlib.pyplot as plt\n",
        "from sklearn.ensemble import RandomForestRegressor\n",
        "\n",
        "# Initialize the Random Forest Regressor\n",
        "rf_model = RandomForestRegressor(n_estimators=100, random_state=42)  # You can adjust n_estimators\n",
        "\n",
        "# Train the model\n",
        "rf_model.fit(X_train, y_train)\n",
        "\n",
        "# Make predictions on the test set\n",
        "y_pred_rf = rf_model.predict(X_test)\n",
        "\n",
        "# Evaluate the model\n",
        "mse_rf = mean_squared_error(y_test, y_pred_rf)\n",
        "r2_rf = r2_score(y_test, y_pred_rf)\n",
        "\n",
        "print(f'Random Forest - Mean Squared Error: {mse_rf}')\n",
        "print(f'Random Forest - R^2 Score: {r2_rf}')\n",
        "\n",
        "# Visualize the results (optional)\n",
        "plt.scatter(X_test[:, 0], y_test, color='blue', label='Actual')\n",
        "plt.scatter(X_test[:, 0], y_pred_rf, color='purple', label='Random Forest Predicted')\n",
        "plt.xlabel('NTC Sensor Temperature (Scaled)')\n",
        "plt.ylabel('Desired Temperature')\n",
        "plt.legend()\n",
        "plt.show()\n"
      ],
      "metadata": {
        "colab": {
          "base_uri": "https://localhost:8080/",
          "height": 484
        },
        "id": "-WoZobfatqe2",
        "outputId": "f5d0d593-32a9-45ed-d526-9a2f3f0ae352"
      },
      "execution_count": null,
      "outputs": [
        {
          "output_type": "stream",
          "name": "stdout",
          "text": [
            "Random Forest - Mean Squared Error: 1.495069713265805\n",
            "Random Forest - R^2 Score: 0.7074621227945355\n"
          ]
        },
        {
          "output_type": "display_data",
          "data": {
            "text/plain": [
              "<Figure size 640x480 with 1 Axes>"
            ],
            "image/png": "[encoded data removed]"
          },
          "metadata": {}
        }
      ]
    },
    {
      "cell_type": "markdown",
      "source": [
        "#SIMPLE PREDICTION IS DONE HERE"
      ],
      "metadata": {
        "id": "BASxr6252lcJ"
      }
    },
    {
      "cell_type": "markdown",
      "source": [
        "i prepared the model that predict the desired temperature based on the ntc indoor temp, ntc outdoor temp and the timestamp and i want to add an new feature after the model  that do like firstly it take the user preference temperature in degree(16 to 24) and then predict the desired temperature and then slowly slowly increase or decrease the desired temperature as per the user preference temperature and that will check by the indoor temperature that is regularly taken from the ntc sensor"
      ],
      "metadata": {
        "id": "G7qV3fAq1Mm0"
      }
    },
    {
      "cell_type": "markdown",
      "source": [
        "To incorporate user preferences and dynamically adjust the desired temperature, you can create a post-processing function that takes the predicted temperature from your model and gradually adjusts it towards the user's preferred temperature. This function will continuously check the current indoor temperature and make small adjustments to the desired temperature over time.\n",
        "\n",
        "Here's how you can implement this:\n",
        "\n",
        "Step 1: Define the Adjustment Function\n",
        "Create a function that takes the current predicted temperature, user preference, and current indoor temperature to adjust the desired temperature."
      ],
      "metadata": {
        "id": "Tu4lND031VPX"
      }
    },
    {
      "cell_type": "code",
      "source": [
        "import time\n",
        "\n",
        "def adjust_temperature(current_temp, user_preference, indoor_temp, adjustment_rate=0.1):\n",
        "    \"\"\"\n",
        "    Adjust the desired temperature towards the user preference.\n",
        "\n",
        "    Parameters:\n",
        "    - current_temp: Current desired temperature predicted by the model.\n",
        "    - user_preference: User's preferred temperature.\n",
        "    - indoor_temp: Current indoor temperature.\n",
        "    - adjustment_rate: Rate at which the temperature is adjusted.\n",
        "\n",
        "    Returns:\n",
        "    - new_temp: Adjusted desired temperature.\n",
        "    \"\"\"\n",
        "    if current_temp < user_preference:\n",
        "        new_temp = min(current_temp + adjustment_rate, user_preference)\n",
        "    else:\n",
        "        new_temp = max(current_temp - adjustment_rate, user_preference)\n",
        "\n",
        "    return new_temp\n"
      ],
      "metadata": {
        "id": "pDT4uqKbq5HA"
      },
      "execution_count": null,
      "outputs": []
    },
    {
      "cell_type": "markdown",
      "source": [
        "Step 2: Integrate the Adjustment Function\n",
        "Incorporate this function into your main loop that regularly reads the indoor temperature and adjusts the desired temperature accordingly."
      ],
      "metadata": {
        "id": "8fTTZWhC1t0k"
      }
    },
    {
      "cell_type": "code",
      "source": [
        "import numpy as np\n",
        "import pandas as pd\n",
        "\n",
        "# Example user preference\n",
        "user_preference = 22.0\n",
        "\n",
        "# Initialize the current desired temperature (e.g., from model prediction)\n",
        "current_desired_temp = 24.0\n",
        "\n",
        "# Simulate reading the indoor temperature from the NTC sensor\n",
        "def read_indoor_temperature():\n",
        "    # Replace this function with actual sensor reading logic\n",
        "    return np.random.normal(loc=27, scale=1)\n",
        "\n",
        "# Main loop to adjust the temperature\n",
        "for _ in range(100):  # Simulate 100 time steps\n",
        "    indoor_temp = read_indoor_temperature()\n",
        "    current_desired_temp = adjust_temperature(current_desired_temp, user_preference, indoor_temp)\n",
        "\n",
        "    print(f\"Current Indoor Temp: {indoor_temp:.2f}°C, Adjusted Desired Temp: {current_desired_temp:.2f}°C\")\n",
        "\n",
        "    time.sleep(1)  # Sleep for a second (or appropriate time interval)\n",
        "\n"
      ],
      "metadata": {
        "id": "kkWinWNF1v0I",
        "colab": {
          "base_uri": "https://localhost:8080/",
          "height": 974
        },
        "outputId": "bc20423d-2595-4d3e-f24a-1fd8f64fbd12"
      },
      "execution_count": null,
      "outputs": [
        {
          "output_type": "stream",
          "name": "stdout",
          "text": [
            "Current Indoor Temp: 28.18°C, Adjusted Desired Temp: 23.90°C\n",
            "Current Indoor Temp: 26.23°C, Adjusted Desired Temp: 23.80°C\n",
            "Current Indoor Temp: 27.09°C, Adjusted Desired Temp: 23.70°C\n",
            "Current Indoor Temp: 24.89°C, Adjusted Desired Temp: 23.60°C\n",
            "Current Indoor Temp: 29.08°C, Adjusted Desired Temp: 23.50°C\n",
            "Current Indoor Temp: 26.11°C, Adjusted Desired Temp: 23.40°C\n",
            "Current Indoor Temp: 25.10°C, Adjusted Desired Temp: 23.30°C\n",
            "Current Indoor Temp: 27.44°C, Adjusted Desired Temp: 23.20°C\n",
            "Current Indoor Temp: 26.56°C, Adjusted Desired Temp: 23.10°C\n",
            "Current Indoor Temp: 27.22°C, Adjusted Desired Temp: 23.00°C\n",
            "Current Indoor Temp: 28.37°C, Adjusted Desired Temp: 22.90°C\n",
            "Current Indoor Temp: 26.01°C, Adjusted Desired Temp: 22.80°C\n",
            "Current Indoor Temp: 26.50°C, Adjusted Desired Temp: 22.70°C\n",
            "Current Indoor Temp: 26.63°C, Adjusted Desired Temp: 22.60°C\n",
            "Current Indoor Temp: 25.78°C, Adjusted Desired Temp: 22.50°C\n",
            "Current Indoor Temp: 27.35°C, Adjusted Desired Temp: 22.40°C\n",
            "Current Indoor Temp: 25.69°C, Adjusted Desired Temp: 22.30°C\n",
            "Current Indoor Temp: 27.46°C, Adjusted Desired Temp: 22.20°C\n",
            "Current Indoor Temp: 27.25°C, Adjusted Desired Temp: 22.10°C\n",
            "Current Indoor Temp: 26.32°C, Adjusted Desired Temp: 22.00°C\n",
            "Current Indoor Temp: 26.10°C, Adjusted Desired Temp: 22.00°C\n",
            "Current Indoor Temp: 26.08°C, Adjusted Desired Temp: 22.00°C\n",
            "Current Indoor Temp: 27.71°C, Adjusted Desired Temp: 22.00°C\n",
            "Current Indoor Temp: 28.39°C, Adjusted Desired Temp: 22.00°C\n",
            "Current Indoor Temp: 26.36°C, Adjusted Desired Temp: 22.00°C\n",
            "Current Indoor Temp: 25.99°C, Adjusted Desired Temp: 22.00°C\n",
            "Current Indoor Temp: 26.64°C, Adjusted Desired Temp: 22.00°C\n",
            "Current Indoor Temp: 26.63°C, Adjusted Desired Temp: 22.00°C\n",
            "Current Indoor Temp: 26.80°C, Adjusted Desired Temp: 22.00°C\n",
            "Current Indoor Temp: 26.69°C, Adjusted Desired Temp: 22.00°C\n",
            "Current Indoor Temp: 27.12°C, Adjusted Desired Temp: 22.00°C\n",
            "Current Indoor Temp: 27.60°C, Adjusted Desired Temp: 22.00°C\n",
            "Current Indoor Temp: 27.10°C, Adjusted Desired Temp: 22.00°C\n",
            "Current Indoor Temp: 27.99°C, Adjusted Desired Temp: 22.00°C\n",
            "Current Indoor Temp: 28.12°C, Adjusted Desired Temp: 22.00°C\n",
            "Current Indoor Temp: 26.36°C, Adjusted Desired Temp: 22.00°C\n",
            "Current Indoor Temp: 26.67°C, Adjusted Desired Temp: 22.00°C\n",
            "Current Indoor Temp: 27.18°C, Adjusted Desired Temp: 22.00°C\n",
            "Current Indoor Temp: 28.14°C, Adjusted Desired Temp: 22.00°C\n",
            "Current Indoor Temp: 26.60°C, Adjusted Desired Temp: 22.00°C\n",
            "Current Indoor Temp: 28.86°C, Adjusted Desired Temp: 22.00°C\n",
            "Current Indoor Temp: 26.27°C, Adjusted Desired Temp: 22.00°C\n",
            "Current Indoor Temp: 26.16°C, Adjusted Desired Temp: 22.00°C\n",
            "Current Indoor Temp: 25.43°C, Adjusted Desired Temp: 22.00°C\n",
            "Current Indoor Temp: 27.21°C, Adjusted Desired Temp: 22.00°C\n"
          ]
        },
        {
          "output_type": "error",
          "ename": "KeyboardInterrupt",
          "evalue": "",
          "traceback": [
            "\u001b[0;31m---------------------------------------------------------------------------\u001b[0m",
            "\u001b[0;31mKeyboardInterrupt\u001b[0m                         Traceback (most recent call last)",
            "\u001b[0;32m<ipython-input-44-5d1fd6156fc9>\u001b[0m in \u001b[0;36m<cell line: 16>\u001b[0;34m()\u001b[0m\n\u001b[1;32m     20\u001b[0m     \u001b[0mprint\u001b[0m\u001b[0;34m(\u001b[0m\u001b[0;34mf\"Current Indoor Temp: {indoor_temp:.2f}°C, Adjusted Desired Temp: {current_desired_temp:.2f}°C\"\u001b[0m\u001b[0;34m)\u001b[0m\u001b[0;34m\u001b[0m\u001b[0;34m\u001b[0m\u001b[0m\n\u001b[1;32m     21\u001b[0m \u001b[0;34m\u001b[0m\u001b[0m\n\u001b[0;32m---> 22\u001b[0;31m     \u001b[0mtime\u001b[0m\u001b[0;34m.\u001b[0m\u001b[0msleep\u001b[0m\u001b[0;34m(\u001b[0m\u001b[0;36m1\u001b[0m\u001b[0;34m)\u001b[0m  \u001b[0;31m# Sleep for a second (or appropriate time interval)\u001b[0m\u001b[0;34m\u001b[0m\u001b[0;34m\u001b[0m\u001b[0m\n\u001b[0m\u001b[1;32m     23\u001b[0m \u001b[0;34m\u001b[0m\u001b[0m\n",
            "\u001b[0;31mKeyboardInterrupt\u001b[0m: "
          ]
        }
      ]
    },
    {
      "cell_type": "code",
      "source": [],
      "metadata": {
        "id": "QNR154Y83pAO"
      },
      "execution_count": null,
      "outputs": []
    }
  ]
}